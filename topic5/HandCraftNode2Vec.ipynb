{
 "cells": [
  {
   "cell_type": "code",
   "execution_count": 172,
   "metadata": {},
   "outputs": [],
   "source": [
    "import torch\n",
    "import numpy as np\n",
    "import random\n",
    "import torch.nn as nn\n",
    "from torch.optim import SGD\n",
    "import torch.nn.functional as F"
   ]
  },
  {
   "cell_type": "code",
   "execution_count": 173,
   "metadata": {},
   "outputs": [
    {
     "name": "stdout",
     "output_type": "stream",
     "text": [
      "Dataset: KarateClub():\n",
      "======================\n",
      "Number of graphs: 1\n",
      "Number of features: 34\n",
      "Number of classes: 4\n",
      "Data(x=[34, 34], edge_index=[2, 156], y=[34], train_mask=[34])\n",
      "==============================================================\n",
      "Number of nodes: 34\n",
      "Number of edges: 156\n",
      "Average node degree: 4.59\n",
      "Number of training nodes: 4\n",
      "Training node label rate: 0.12\n",
      "Has isolated nodes: False\n",
      "Has self-loops: False\n",
      "Is undirected: True\n"
     ]
    }
   ],
   "source": [
    "from torch_geometric.datasets import KarateClub\n",
    "\n",
    "dataset = KarateClub()\n",
    "print(f'Dataset: {dataset}:')\n",
    "print('======================')\n",
    "print(f'Number of graphs: {len(dataset)}')\n",
    "print(f'Number of features: {dataset.num_features}')\n",
    "print(f'Number of classes: {dataset.num_classes}')\n",
    "\n",
    "\n",
    "data = dataset[0]  # Get the first graph object.\n",
    "\n",
    "print(data)\n",
    "print('==============================================================')\n",
    "\n",
    "# Gather some statistics about the graph.\n",
    "print(f'Number of nodes: {data.num_nodes}')\n",
    "print(f'Number of edges: {data.num_edges}')\n",
    "print(f'Average node degree: {data.num_edges / data.num_nodes:.2f}')\n",
    "print(f'Number of training nodes: {data.train_mask.sum()}')\n",
    "print(f'Training node label rate: {int(data.train_mask.sum()) / data.num_nodes:.2f}')\n",
    "print(f'Has isolated nodes: {data.has_isolated_nodes()}')\n",
    "print(f'Has self-loops: {data.has_self_loops()}')\n",
    "print(f'Is undirected: {data.is_undirected()}')"
   ]
  },
  {
   "cell_type": "markdown",
   "metadata": {},
   "source": [
    "![](https://i.imgur.com/NUJjZ1q.png)"
   ]
  },
  {
   "cell_type": "code",
   "execution_count": 174,
   "metadata": {},
   "outputs": [
    {
     "data": {
      "text/plain": [
       "{0: [1, 2, 3, 4, 5, 6, 7, 8, 10, 11, 12, 13, 17, 19, 21, 31],\n",
       " 1: [0, 2, 3, 7, 13, 17, 19, 21, 30],\n",
       " 2: [0, 1, 3, 7, 8, 9, 13, 27, 28, 32],\n",
       " 3: [0, 1, 2, 7, 12, 13],\n",
       " 4: [0, 6, 10],\n",
       " 5: [0, 6, 10, 16],\n",
       " 6: [0, 4, 5, 16],\n",
       " 7: [0, 1, 2, 3],\n",
       " 8: [0, 2, 30, 32, 33],\n",
       " 9: [2, 33],\n",
       " 10: [0, 4, 5],\n",
       " 11: [0],\n",
       " 12: [0, 3],\n",
       " 13: [0, 1, 2, 3, 33],\n",
       " 14: [32, 33],\n",
       " 15: [32, 33],\n",
       " 16: [5, 6],\n",
       " 17: [0, 1],\n",
       " 18: [32, 33],\n",
       " 19: [0, 1, 33],\n",
       " 20: [32, 33],\n",
       " 21: [0, 1],\n",
       " 22: [32, 33],\n",
       " 23: [25, 27, 29, 32, 33],\n",
       " 24: [25, 27, 31],\n",
       " 25: [23, 24, 31],\n",
       " 26: [29, 33],\n",
       " 27: [2, 23, 24, 33],\n",
       " 28: [2, 31, 33],\n",
       " 29: [23, 26, 32, 33],\n",
       " 30: [1, 8, 32, 33],\n",
       " 31: [0, 24, 25, 28, 32, 33],\n",
       " 32: [2, 8, 14, 15, 18, 20, 22, 23, 29, 30, 31, 33],\n",
       " 33: [8, 9, 13, 14, 15, 18, 19, 20, 22, 23, 26, 27, 28, 29, 30, 31, 32]}"
      ]
     },
     "execution_count": 174,
     "metadata": {},
     "output_type": "execute_result"
    }
   ],
   "source": [
    "adj_dense = torch.sparse_coo_tensor(indices=data.edge_index, values=torch.ones(data.num_edges)).to_dense()\n",
    "\n",
    "# Transform Adjacency Matrix to Adjacency List\n",
    "neigs = {}\n",
    "########  TODO  ########\n",
    "for idx, node in enumerate(adj_dense):\n",
    "    neigs[idx] = torch.where(node == 1)[0].tolist()\n",
    "########################\n",
    "neigs"
   ]
  },
  {
   "cell_type": "markdown",
   "metadata": {},
   "source": [
    "## Implement RandomWalk Function"
   ]
  },
  {
   "cell_type": "code",
   "execution_count": 175,
   "metadata": {},
   "outputs": [],
   "source": [
    "def random_walk(adj_list, start_node, num_length, p ,q):\n",
    "    \"\"\"\n",
    "    adj_list [dict] : graph structure\n",
    "    start_node [int] :\n",
    "    num_length [int] : length of randomwalk\n",
    "    p [int, float] : weight of BFS\n",
    "    q [int, float] : weight of DFS\n",
    "    \"\"\"\n",
    "    walk = [start_node]\n",
    "    \n",
    "    while len(walk) < num_length:\n",
    "        cur_node = walk[-1]\n",
    "        neigs = adj_list[cur_node]\n",
    "\n",
    "        if len(walk) == 1:\n",
    "            next_node = random.choice(neigs)\n",
    "        else:\n",
    "            prev_node = walk[-2]\n",
    "            prob = []\n",
    "            for neig in neigs:\n",
    "                ########  TODO  ########\n",
    "                # BFS\n",
    "                if neig == prev_node:    \n",
    "                    prob.append(1/p)\n",
    "                \n",
    "                # same dist. to start\n",
    "                elif neigs in adj_list[prev_node]: \n",
    "                    prob.append(1)\n",
    "                \n",
    "                # DFS\n",
    "                else : \n",
    "                    prob.append(1/q)\n",
    "                ########################\n",
    "\n",
    "            norm_prob = (np.array(prob) / np.array(prob).sum())\n",
    "            next_node = random.choices(neigs, norm_prob.tolist())[0]\n",
    "\n",
    "        walk.append(next_node)\n",
    "    return walk"
   ]
  },
  {
   "cell_type": "markdown",
   "metadata": {},
   "source": [
    "## Constructure Training data"
   ]
  },
  {
   "cell_type": "code",
   "execution_count": 176,
   "metadata": {},
   "outputs": [],
   "source": [
    "def generate_training_data(graph, num_walks, walk_length, context_size, p=4, q=1):\n",
    "    \"\"\"\n",
    "    You should constructure positive datset and negative dataset.\n",
    "    Shape of dataset : (Numbers of node * num_walks, walk_length)\n",
    "    \"\"\"\n",
    "    pos_walks = []\n",
    "    neg_walks = []\n",
    "    for _ in range(num_walks):\n",
    "        for node in graph.keys():\n",
    "            pos_path = random_walk(graph, node, walk_length, p, q)\n",
    "            ########  TODO  ########\n",
    "            #Implement Negative Sampling\n",
    "            neg_path = []\n",
    "            \n",
    "\n",
    "            ########################\n",
    "            pos_walks.append(pos_path)\n",
    "            neg_walks.append(neg_path)\n",
    "    # print(pos_walks)\n",
    "    pos_walks = np.vstack(pos_walks)\n",
    "    neg_walks = np.vstack(neg_walks)\n",
    "\n",
    "    pos_dataset = []\n",
    "    neg_dataset = []\n",
    "    num_walks_per_rw = walk_length + 1 - context_size\n",
    "    for i in range(num_walks_per_rw):\n",
    "        pos_data = pos_walks[:, i:i + context_size]\n",
    "        neg_data = neg_walks[:, i:i + context_size]\n",
    "        pos_dataset.append(pos_data)\n",
    "        neg_dataset.append(neg_data)\n",
    "    pos_dataset = np.vstack(pos_dataset)\n",
    "    neg_dataset = np.vstack(neg_dataset)\n",
    "\n",
    "    return np.array(pos_dataset), np.array(neg_dataset)\n"
   ]
  },
  {
   "cell_type": "markdown",
   "metadata": {},
   "source": [
    "**Node2Vec loss fuction**\n",
    "\n",
    "\\begin{equation}\n",
    "L(\\Theta) = \\log \\left ( \\sigma (z_u^{\\top} z_v)  \\right) - \\sum_{i=1}^k \\log \\left ( \\sigma (z_u^{\\top} z_{n_i})  \\right), n_i \\sim P_V\n",
    "\\end{equation}"
   ]
  },
  {
   "cell_type": "code",
   "execution_count": 177,
   "metadata": {},
   "outputs": [],
   "source": [
    "class Node2Vec(nn.Module):\n",
    "    def __init__(self, num_nodes, embed_dim):\n",
    "        super(Node2Vec, self).__init__()\n",
    "        self.num_nodes = num_nodes\n",
    "        self.embed_dim = embed_dim\n",
    "        self.EPS = 1e-5\n",
    "        self.embeddings = nn.Embedding(num_nodes, embed_dim)\n",
    "        \n",
    "    def forward(self, pos_set, neg_set):\n",
    "        # calculate the loss of positive pairs\n",
    "        start_nodes, pos_nodes = pos_set[:, 0], pos_set[:, 1:]\n",
    "\n",
    "        start_nodes = torch.tensor(start_nodes, dtype=torch.long)\n",
    "        pos_nodes = torch.tensor(pos_nodes, dtype=torch.long)\n",
    "        \n",
    "        ########  TODO  ########\n",
    "\n",
    "\n",
    "        pos_loss = None\n",
    "        ########################\n",
    "\n",
    "        # calculate the loss of negative pairs\n",
    "        start_nodes, pos_nodes = neg_set[:, 0], neg_set[:, 1:]\n",
    "\n",
    "        start_nodes = torch.tensor(start_nodes, dtype=torch.long)\n",
    "        pos_nodes = torch.tensor(pos_nodes, dtype=torch.long)\n",
    "        \n",
    "        ########  TODO  ########\n",
    "\n",
    "\n",
    "        neg_loss = None\n",
    "        ########################\n",
    "\n",
    "        return pos_loss + neg_loss\n"
   ]
  },
  {
   "cell_type": "code",
   "execution_count": 178,
   "metadata": {},
   "outputs": [
    {
     "name": "stdout",
     "output_type": "stream",
     "text": [
      "dict_keys([0, 1, 2, 3, 4, 5, 6, 7, 8, 9, 10, 11, 12, 13, 14, 15, 16, 17, 18, 19, 20, 21, 22, 23, 24, 25, 26, 27, 28, 29, 30, 31, 32, 33])\n",
      "(340, 10)\n"
     ]
    }
   ],
   "source": [
    "# 設定參數\n",
    "walks_per_node = 10\n",
    "walk_length = 10\n",
    "context_size = 10\n",
    "embedding_dim = 16\n",
    "epochs = 100\n",
    "learning_rate = 0.01\n",
    "p=4\n",
    "q=1\n",
    "\n",
    "# 生成訓練數據\n",
    "train_set = generate_training_data(neigs, walks_per_node, walk_length, context_size, p, q)\n",
    "model = Node2Vec(num_nodes=data.num_nodes, embed_dim=embedding_dim)\n",
    "optimizer = SGD(model.parameters(), lr=learning_rate)\n",
    "pos_set, neg_set = train_set\n",
    "\n",
    "print(pos_set.shape)"
   ]
  },
  {
   "cell_type": "code",
   "execution_count": 179,
   "metadata": {},
   "outputs": [],
   "source": [
    "def train_model():\n",
    "    model.train()\n",
    "    pos_set, neg_set = train_set\n",
    "    # 計算損失\n",
    "    loss = model(pos_set, neg_set)\n",
    "    # 反向傳播和更新\n",
    "    loss.backward()\n",
    "    optimizer.step()\n",
    "    optimizer.zero_grad()\n",
    "    return loss"
   ]
  },
  {
   "cell_type": "code",
   "execution_count": 180,
   "metadata": {},
   "outputs": [
    {
     "ename": "IndexError",
     "evalue": "index 0 is out of bounds for axis 1 with size 0",
     "output_type": "error",
     "traceback": [
      "\u001b[0;31m---------------------------------------------------------------------------\u001b[0m",
      "\u001b[0;31mIndexError\u001b[0m                                Traceback (most recent call last)",
      "Cell \u001b[0;32mIn[180], line 2\u001b[0m\n\u001b[1;32m      1\u001b[0m \u001b[38;5;28;01mfor\u001b[39;00m epoch \u001b[38;5;129;01min\u001b[39;00m \u001b[38;5;28mrange\u001b[39m(\u001b[38;5;241m1\u001b[39m, \u001b[38;5;241m201\u001b[39m):\n\u001b[0;32m----> 2\u001b[0m     loss \u001b[38;5;241m=\u001b[39m \u001b[43mtrain_model\u001b[49m\u001b[43m(\u001b[49m\u001b[43m)\u001b[49m\n\u001b[1;32m      3\u001b[0m     \u001b[38;5;28mprint\u001b[39m(\u001b[38;5;124mf\u001b[39m\u001b[38;5;124m'\u001b[39m\u001b[38;5;124mEpoch: \u001b[39m\u001b[38;5;132;01m{\u001b[39;00mepoch\u001b[38;5;132;01m:\u001b[39;00m\u001b[38;5;124m02d\u001b[39m\u001b[38;5;132;01m}\u001b[39;00m\u001b[38;5;124m, Loss: \u001b[39m\u001b[38;5;132;01m{\u001b[39;00mloss\u001b[38;5;132;01m:\u001b[39;00m\u001b[38;5;124m.4f\u001b[39m\u001b[38;5;132;01m}\u001b[39;00m\u001b[38;5;124m'\u001b[39m)\n",
      "Cell \u001b[0;32mIn[179], line 5\u001b[0m, in \u001b[0;36mtrain_model\u001b[0;34m()\u001b[0m\n\u001b[1;32m      3\u001b[0m pos_set, neg_set \u001b[38;5;241m=\u001b[39m train_set\n\u001b[1;32m      4\u001b[0m \u001b[38;5;66;03m# 計算損失\u001b[39;00m\n\u001b[0;32m----> 5\u001b[0m loss \u001b[38;5;241m=\u001b[39m \u001b[43mmodel\u001b[49m\u001b[43m(\u001b[49m\u001b[43mpos_set\u001b[49m\u001b[43m,\u001b[49m\u001b[43m \u001b[49m\u001b[43mneg_set\u001b[49m\u001b[43m)\u001b[49m\n\u001b[1;32m      6\u001b[0m \u001b[38;5;66;03m# 反向傳播和更新\u001b[39;00m\n\u001b[1;32m      7\u001b[0m loss\u001b[38;5;241m.\u001b[39mbackward()\n",
      "File \u001b[0;32m~/anaconda3/envs/py-3.9/lib/python3.9/site-packages/torch/nn/modules/module.py:1532\u001b[0m, in \u001b[0;36mModule._wrapped_call_impl\u001b[0;34m(self, *args, **kwargs)\u001b[0m\n\u001b[1;32m   1530\u001b[0m     \u001b[38;5;28;01mreturn\u001b[39;00m \u001b[38;5;28mself\u001b[39m\u001b[38;5;241m.\u001b[39m_compiled_call_impl(\u001b[38;5;241m*\u001b[39margs, \u001b[38;5;241m*\u001b[39m\u001b[38;5;241m*\u001b[39mkwargs)  \u001b[38;5;66;03m# type: ignore[misc]\u001b[39;00m\n\u001b[1;32m   1531\u001b[0m \u001b[38;5;28;01melse\u001b[39;00m:\n\u001b[0;32m-> 1532\u001b[0m     \u001b[38;5;28;01mreturn\u001b[39;00m \u001b[38;5;28;43mself\u001b[39;49m\u001b[38;5;241;43m.\u001b[39;49m\u001b[43m_call_impl\u001b[49m\u001b[43m(\u001b[49m\u001b[38;5;241;43m*\u001b[39;49m\u001b[43margs\u001b[49m\u001b[43m,\u001b[49m\u001b[43m \u001b[49m\u001b[38;5;241;43m*\u001b[39;49m\u001b[38;5;241;43m*\u001b[39;49m\u001b[43mkwargs\u001b[49m\u001b[43m)\u001b[49m\n",
      "File \u001b[0;32m~/anaconda3/envs/py-3.9/lib/python3.9/site-packages/torch/nn/modules/module.py:1541\u001b[0m, in \u001b[0;36mModule._call_impl\u001b[0;34m(self, *args, **kwargs)\u001b[0m\n\u001b[1;32m   1536\u001b[0m \u001b[38;5;66;03m# If we don't have any hooks, we want to skip the rest of the logic in\u001b[39;00m\n\u001b[1;32m   1537\u001b[0m \u001b[38;5;66;03m# this function, and just call forward.\u001b[39;00m\n\u001b[1;32m   1538\u001b[0m \u001b[38;5;28;01mif\u001b[39;00m \u001b[38;5;129;01mnot\u001b[39;00m (\u001b[38;5;28mself\u001b[39m\u001b[38;5;241m.\u001b[39m_backward_hooks \u001b[38;5;129;01mor\u001b[39;00m \u001b[38;5;28mself\u001b[39m\u001b[38;5;241m.\u001b[39m_backward_pre_hooks \u001b[38;5;129;01mor\u001b[39;00m \u001b[38;5;28mself\u001b[39m\u001b[38;5;241m.\u001b[39m_forward_hooks \u001b[38;5;129;01mor\u001b[39;00m \u001b[38;5;28mself\u001b[39m\u001b[38;5;241m.\u001b[39m_forward_pre_hooks\n\u001b[1;32m   1539\u001b[0m         \u001b[38;5;129;01mor\u001b[39;00m _global_backward_pre_hooks \u001b[38;5;129;01mor\u001b[39;00m _global_backward_hooks\n\u001b[1;32m   1540\u001b[0m         \u001b[38;5;129;01mor\u001b[39;00m _global_forward_hooks \u001b[38;5;129;01mor\u001b[39;00m _global_forward_pre_hooks):\n\u001b[0;32m-> 1541\u001b[0m     \u001b[38;5;28;01mreturn\u001b[39;00m \u001b[43mforward_call\u001b[49m\u001b[43m(\u001b[49m\u001b[38;5;241;43m*\u001b[39;49m\u001b[43margs\u001b[49m\u001b[43m,\u001b[49m\u001b[43m \u001b[49m\u001b[38;5;241;43m*\u001b[39;49m\u001b[38;5;241;43m*\u001b[39;49m\u001b[43mkwargs\u001b[49m\u001b[43m)\u001b[49m\n\u001b[1;32m   1543\u001b[0m \u001b[38;5;28;01mtry\u001b[39;00m:\n\u001b[1;32m   1544\u001b[0m     result \u001b[38;5;241m=\u001b[39m \u001b[38;5;28;01mNone\u001b[39;00m\n",
      "Cell \u001b[0;32mIn[177], line 23\u001b[0m, in \u001b[0;36mNode2Vec.forward\u001b[0;34m(self, pos_set, neg_set)\u001b[0m\n\u001b[1;32m     19\u001b[0m pos_loss \u001b[38;5;241m=\u001b[39m \u001b[38;5;28;01mNone\u001b[39;00m\n\u001b[1;32m     20\u001b[0m \u001b[38;5;66;03m########################\u001b[39;00m\n\u001b[1;32m     21\u001b[0m \n\u001b[1;32m     22\u001b[0m \u001b[38;5;66;03m# calculate the loss of negative pairs\u001b[39;00m\n\u001b[0;32m---> 23\u001b[0m start_nodes, pos_nodes \u001b[38;5;241m=\u001b[39m \u001b[43mneg_set\u001b[49m\u001b[43m[\u001b[49m\u001b[43m:\u001b[49m\u001b[43m,\u001b[49m\u001b[43m \u001b[49m\u001b[38;5;241;43m0\u001b[39;49m\u001b[43m]\u001b[49m, neg_set[:, \u001b[38;5;241m1\u001b[39m:]\n\u001b[1;32m     25\u001b[0m start_nodes \u001b[38;5;241m=\u001b[39m torch\u001b[38;5;241m.\u001b[39mtensor(start_nodes, dtype\u001b[38;5;241m=\u001b[39mtorch\u001b[38;5;241m.\u001b[39mlong)\n\u001b[1;32m     26\u001b[0m pos_nodes \u001b[38;5;241m=\u001b[39m torch\u001b[38;5;241m.\u001b[39mtensor(pos_nodes, dtype\u001b[38;5;241m=\u001b[39mtorch\u001b[38;5;241m.\u001b[39mlong)\n",
      "\u001b[0;31mIndexError\u001b[0m: index 0 is out of bounds for axis 1 with size 0"
     ]
    }
   ],
   "source": [
    "for epoch in range(1, 201):\n",
    "    loss = train_model()\n",
    "    print(f'Epoch: {epoch:02d}, Loss: {loss:.4f}')"
   ]
  }
 ],
 "metadata": {
  "kernelspec": {
   "display_name": "let",
   "language": "python",
   "name": "python3"
  },
  "language_info": {
   "codemirror_mode": {
    "name": "ipython",
    "version": 3
   },
   "file_extension": ".py",
   "mimetype": "text/x-python",
   "name": "python",
   "nbconvert_exporter": "python",
   "pygments_lexer": "ipython3",
   "version": "3.9.19"
  }
 },
 "nbformat": 4,
 "nbformat_minor": 2
}
